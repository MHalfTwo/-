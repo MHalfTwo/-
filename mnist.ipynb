{
 "cells": [
  {
   "metadata": {},
   "cell_type": "code",
   "source": [
    "import torch\n",
    "from torch import nn\n",
    "from torch.utils.data import DataLoader\n",
    "from torchvision import transforms\n",
    "import torchvision\n",
    "from torch.nn import functional as F\n",
    "from torch.utils import data\n",
    "import matplotlib.pyplot as plt\n",
    "import numpy as np\n",
    "import pandas as pd\n",
    "from pylab import mpl\n",
    "\n",
    "from main import device\n",
    "\n",
    "mpl.rcParams[\"font.sans-serif\"] = [\"SimHei\"]"
   ],
   "id": "c6e5768d13e5384c",
   "outputs": [],
   "execution_count": null
  },
  {
   "metadata": {},
   "cell_type": "code",
   "source": [
    "data_train = torchvision.datasets.MNIST(root=\"../data\", train=True, download=True, transform=transforms.ToTensor())\n",
    "data_test = torchvision.datasets.MNIST(root=\"../data\", train=False, download=True, transform=transforms.ToTensor())"
   ],
   "id": "1cf24979b0ffe20f",
   "outputs": [],
   "execution_count": null
  },
  {
   "metadata": {},
   "cell_type": "code",
   "source": "data_iter = data.DataLoader(data_train, batch_size=512*2*4, shuffle=True,num_workers=4,pin_memory=True)",
   "id": "b472f35acfca0c00",
   "outputs": [],
   "execution_count": null
  },
  {
   "metadata": {},
   "cell_type": "code",
   "source": [
    "class Net(nn.Module):\n",
    "    def __init__(self,num_inputs,num_outputs,num_hidden1,num_hidden2,is_Training = True):\n",
    "        super().__init__()\n",
    "        self.input_nums = num_inputs\n",
    "        self.training = is_Training\n",
    "        self.relu = nn.ReLU()\n",
    "        self.hidden1 = nn.Linear(num_inputs, num_hidden1)\n",
    "        self.hidden2 = nn.Linear(num_hidden1, num_hidden2)\n",
    "        self.output = nn.Linear(num_hidden2, num_outputs)\n",
    "        self.dropout1 = nn.Dropout(0.3)\n",
    "        self.dropout2 = nn.Dropout(0.2)\n",
    "    def forward(self, x):\n",
    "        o = self.relu(self.hidden1(x.reshape(-1,self.input_nums)))\n",
    "        if self.training:\n",
    "            o = self.dropout1(o)\n",
    "        o = self.relu(self.hidden2(o))\n",
    "        if self.training:\n",
    "            o = self.dropout2(o)\n",
    "        return self.output(o)"
   ],
   "id": "b82ff2c0c083a90d",
   "outputs": [],
   "execution_count": null
  },
  {
   "metadata": {},
   "cell_type": "code",
   "source": [
    "class ConNet(nn.Module):\n",
    "    def __init__(self,num_inputs,num_outputs,is_Training = True):\n",
    "        super().__init__()\n",
    "        self.input_nums = num_inputs\n",
    "        self.training = is_Training\n",
    "        self.net = nn.Sequential(\n",
    "            nn.Conv2d(1,16,kernel_size=7, padding=3),\n",
    "            nn.ReLU(),\n",
    "            nn.MaxPool2d(2,2),\n",
    "            nn.Conv2d(16,32,kernel_size=5, padding=2),\n",
    "            nn.ReLU(),\n",
    "            nn.MaxPool2d(2,2),\n",
    "            nn.Conv2d(32,64,kernel_size=3, padding=1),\n",
    "            nn.ReLU(),\n",
    "            nn.Flatten(),\n",
    "            nn.Linear(7*7*64,128),\n",
    "            nn.ReLU(),\n",
    "            nn.Linear(128,num_outputs),\n",
    "        )\n",
    "    def forward(self,x):\n",
    "        return self.net(x)"
   ],
   "id": "a3de5bcac7312b52",
   "outputs": [],
   "execution_count": null
  },
  {
   "metadata": {},
   "cell_type": "code",
   "source": "cnet = ConNet(28*28,10)",
   "id": "b7f9cf8b0676af4",
   "outputs": [],
   "execution_count": null
  },
  {
   "metadata": {},
   "cell_type": "code",
   "source": "loss = nn.CrossEntropyLoss()",
   "id": "5dce1aa2891e7e57",
   "outputs": [],
   "execution_count": null
  },
  {
   "metadata": {},
   "cell_type": "code",
   "source": [
    "def evaluate(model, data_loader):\n",
    "    model.eval()\n",
    "    total_loss = 0\n",
    "    with torch.no_grad():\n",
    "        for x, y in data_loader:\n",
    "            x, y = x.to(device), y.to(device)\n",
    "            outputs = model(x)\n",
    "            total_loss += loss(outputs, y).item() * x.size(0)\n",
    "    return total_loss / len(data_loader.dataset)"
   ],
   "id": "c1ccd69126e99043",
   "outputs": [],
   "execution_count": null
  },
  {
   "metadata": {},
   "cell_type": "code",
   "source": [
    "def train(train_data:torch.utils.data.dataloader.DataLoader,test_data,model:Net,lr,epochs:int)->tuple[list,list]:\n",
    "    train_loss = []\n",
    "    test_loss = []\n",
    "    test_iter = data.DataLoader(test_data,batch_size=512*2,shuffle=True,num_workers=4,pin_memory=True)\n",
    "    opt = torch.optim.Adam(model.parameters(), lr)\n",
    "    for epoch in range(epochs):\n",
    "        model.train()\n",
    "        for x,y in train_data:\n",
    "            x = x.to(device)\n",
    "            y = y.to(device)\n",
    "            opt.zero_grad()\n",
    "            l = loss(model(x),y)\n",
    "            l.backward()\n",
    "            opt.step()\n",
    "        print(f'完成了第{epoch+1}次训练')\n",
    "        # 在训练循环中添加\n",
    "        train_loss.append(evaluate(model, train_data))\n",
    "        test_loss.append(evaluate(model, test_iter))\n",
    "        \n",
    "    return train_loss,test_loss\n"
   ],
   "id": "63e85affdfd2d4e0",
   "outputs": [],
   "execution_count": null
  },
  {
   "metadata": {
    "ExecuteTime": {
     "end_time": "2025-05-19T12:30:02.823545Z",
     "start_time": "2025-05-19T12:30:02.807590Z"
    }
   },
   "cell_type": "code",
   "source": [
    "net = Net(28*28,10,100,100)\n",
    "cnet = ConNet(28*28,10)\n",
    "device = torch.device(\"cuda:0\" if torch.cuda.is_available() else \"cpu\")"
   ],
   "id": "eef709b2f9ccb20d",
   "outputs": [],
   "execution_count": 71
  },
  {
   "metadata": {
    "ExecuteTime": {
     "end_time": "2025-05-19T12:36:16.778663Z",
     "start_time": "2025-05-19T12:30:06.411184Z"
    }
   },
   "cell_type": "code",
   "source": [
    "net.to(device=device)\n",
    "cnet.to(device=device)\n",
    "Train_loss,Test_loss = train(data_iter,data_test,cnet,0.01,24)"
   ],
   "id": "1dff1179fc6323ac",
   "outputs": [
    {
     "name": "stdout",
     "output_type": "stream",
     "text": [
      "完成了第1次训练\n",
      "完成了第2次训练\n",
      "完成了第3次训练\n",
      "完成了第4次训练\n",
      "完成了第5次训练\n",
      "完成了第6次训练\n",
      "完成了第7次训练\n",
      "完成了第8次训练\n",
      "完成了第9次训练\n",
      "完成了第10次训练\n",
      "完成了第11次训练\n",
      "完成了第12次训练\n",
      "完成了第13次训练\n",
      "完成了第14次训练\n",
      "完成了第15次训练\n",
      "完成了第16次训练\n",
      "完成了第17次训练\n",
      "完成了第18次训练\n",
      "完成了第19次训练\n",
      "完成了第20次训练\n",
      "完成了第21次训练\n",
      "完成了第22次训练\n",
      "完成了第23次训练\n",
      "完成了第24次训练\n"
     ]
    }
   ],
   "execution_count": 72
  },
  {
   "metadata": {
    "ExecuteTime": {
     "end_time": "2025-05-19T12:36:16.904845Z",
     "start_time": "2025-05-19T12:36:16.809516Z"
    }
   },
   "cell_type": "code",
   "source": [
    "plt.figure(\"展示图\")\n",
    "print(Test_loss)\n",
    "plt.plot(Train_loss,label='train',color='r')\n",
    "plt.plot(Test_loss,label='test',color='b')\n",
    "plt.xlabel('epoch')\n",
    "plt.ylabel('loss')\n",
    "plt.show()"
   ],
   "id": "b260a9793fee9d54",
   "outputs": [
    {
     "name": "stdout",
     "output_type": "stream",
     "text": [
      "[0.29246777453422546, 0.08642226542234421, 0.05552297894358635, 0.0447465914607048, 0.0326213737487793, 0.03510855105519295, 0.03133448590040207, 0.039141815891861914, 0.033018099561333655, 0.032012263238430025, 0.035761117893457414, 0.03987081524133682, 0.02809793913960457, 0.02889366953074932, 0.03752668113708496, 0.03083229157626629, 0.03975190590023994, 0.03255682150125504, 0.03321451196074486, 0.03295687834024429, 0.04349221743345261, 0.043857731765508653, 0.05665853538513184, 0.044219629335403444]\n"
     ]
    },
    {
     "data": {
      "text/plain": [
       "<Figure size 640x480 with 1 Axes>"
      ],
      "image/png": "[encoded data removed]"
     },
     "metadata": {},
     "output_type": "display_data"
    }
   ],
   "execution_count": 73
  },
  {
   "metadata": {
    "ExecuteTime": {
     "end_time": "2025-05-19T12:40:30.631994Z",
     "start_time": "2025-05-19T12:40:22.767127Z"
    }
   },
   "cell_type": "code",
   "source": [
    "cnet.to(device='cpu')\n",
    "wrong_list = []\n",
    "for p in range(10000):\n",
    "    pre = cnet(data_test[p][0].reshape([1,1,28,28])).argmax().item()\n",
    "    true = data_test[p][1]\n",
    "    if pre != true:\n",
    "        wrong_list.append(p)\n",
    "print(f\"错误个数{len(wrong_list)}\")\n",
    "torch.save(cnet.state_dict(),\"cnet.pth\")"
   ],
   "id": "494f8cb803ffcc2b",
   "outputs": [
    {
     "name": "stdout",
     "output_type": "stream",
     "text": [
      "错误个数113\n"
     ]
    }
   ],
   "execution_count": 87
  },
  {
   "metadata": {
    "ExecuteTime": {
     "end_time": "2025-05-19T12:38:59.837004Z",
     "start_time": "2025-05-19T12:38:59.695320Z"
    }
   },
   "cell_type": "code",
   "source": [
    "cnet.eval()\n",
    "p = 47\n",
    "print(cnet(data_train[p][0].reshape((1,1,28,28))).argmax().item())\n",
    "print(data_train[p][1])\n",
    "plt.imshow(data_train[p][0][0])"
   ],
   "id": "959e5c9b6a713e",
   "outputs": [
    {
     "name": "stdout",
     "output_type": "stream",
     "text": [
      "5\n",
      "5\n"
     ]
    },
    {
     "data": {
      "text/plain": [
       "<matplotlib.image.AxesImage at 0x2663d0cb3d0>"
      ]
     },
     "execution_count": 79,
     "metadata": {},
     "output_type": "execute_result"
    },
    {
     "data": {
      "text/plain": [
       "<Figure size 640x480 with 1 Axes>"
      ],
      "image/png": "[encoded data removed]"
     },
     "metadata": {},
     "output_type": "display_data"
    }
   ],
   "execution_count": 79
  },
  {
   "metadata": {},
   "cell_type": "code",
   "source": [
    "import tkinter as tk\n",
    "from PIL import Image, ImageDraw"
   ],
   "id": "430c3435a9fea167",
   "outputs": [],
   "execution_count": null
  },
  {
   "metadata": {},
   "cell_type": "code",
   "source": [
    "class DigitRecognizer:\n",
    "    def __init__(self, model):\n",
    "        # 加载训练好的模型\n",
    "        self.model = model.to('cpu')\n",
    "        \n",
    "        # 创建主窗口\n",
    "        self.window = tk.Tk()\n",
    "        self.window.title(\"手写数字识别\")\n",
    "        \n",
    "        # 创建画布\n",
    "        self.canvas_width = 280\n",
    "        self.canvas_height = 280\n",
    "        self.canvas = tk.Canvas(self.window, \n",
    "                               width=self.canvas_width,\n",
    "                               height=self.canvas_height,\n",
    "                               bg=\"black\")\n",
    "        self.canvas.pack()\n",
    "        \n",
    "        # 创建界面控件\n",
    "        self.btn_recognize = tk.Button(self.window,\n",
    "                                      text=\"识别\",\n",
    "                                      command=self.recognize)\n",
    "        self.btn_recognize.pack(side=tk.LEFT)\n",
    "        \n",
    "        self.btn_clear = tk.Button(self.window,\n",
    "                                  text=\"清除\",\n",
    "                                  command=self.clear)\n",
    "        self.btn_clear.pack(side=tk.RIGHT)\n",
    "        \n",
    "        self.lbl_result = tk.Label(self.window,\n",
    "                                 text=\"预测结果：\",\n",
    "                                 font=(\"Arial\", 20))\n",
    "        self.lbl_result.pack()\n",
    "        \n",
    "        # 初始化绘图变量\n",
    "        self.image = Image.new(\"L\", (self.canvas_width, self.canvas_height), 0)\n",
    "        self.draw = ImageDraw.Draw(self.image)\n",
    "        \n",
    "        # 绑定鼠标事件\n",
    "        self.canvas.bind(\"<B1-Motion>\", self.paint)\n",
    "        \n",
    "        self.input = None\n",
    "        \n",
    "    def paint(self, event):\n",
    "        # 绘制白色线条（在黑色背景上）\n",
    "        x, y = event.x, event.y\n",
    "        r = 10  # 线条半径\n",
    "        self.canvas.create_oval(x-r, y-r, x+r, y+r, \n",
    "                               fill=\"white\", outline=\"white\")\n",
    "        self.draw.ellipse([x-r, y-r, x+r, y+r], fill=255)\n",
    "        \n",
    "    def preprocess_image(self):\n",
    "        # 缩放并处理图像\n",
    "        img = self.image.resize((28, 28))  # 缩放到MNIST大小\n",
    "        img_array = np.array(img) / 255.0  # 归一化\n",
    "        \n",
    "        # 调整维度匹配模型输入要求\n",
    "        return img_array.reshape(1,1,28,28)\n",
    "    \n",
    "    def recognize(self):\n",
    "        # 预处理图像\n",
    "        processed_img = self.preprocess_image()\n",
    "        self.input = processed_img\n",
    "        # 进行预测\n",
    "        processed_img=torch.from_numpy(processed_img).float()\n",
    "        predictions = self.model(processed_img)\n",
    "        predictions = predictions.detach()\n",
    "        predictions = F.softmax(predictions,dim=1)\n",
    "        predicted_digit = predictions.argmax()\n",
    "        confidence = predictions.max()\n",
    "        \n",
    "        # 显示结果\n",
    "        self.lbl_result.config(\n",
    "            text=f\"预测结果：{predicted_digit}（置信度：{confidence:.2f}）\"\n",
    "        )\n",
    "    \n",
    "    def clear(self):\n",
    "        self.canvas.delete(\"all\")\n",
    "        self.image = Image.new(\"L\", (self.canvas_width, self.canvas_height), 0)\n",
    "        self.draw = ImageDraw.Draw(self.image)\n",
    "        self.lbl_result.config(text=\"预测结果：\")\n",
    "    \n",
    "    def run(self):\n",
    "        self.window.mainloop()"
   ],
   "id": "31a31e44f4fe3c33",
   "outputs": [],
   "execution_count": null
  },
  {
   "metadata": {
    "ExecuteTime": {
     "end_time": "2025-05-19T12:43:21.483511Z",
     "start_time": "2025-05-19T12:43:11.324478Z"
    }
   },
   "cell_type": "code",
   "source": [
    "recognizer = DigitRecognizer(cnet)\n",
    "recognizer.run()"
   ],
   "id": "a33c1e2565049b0e",
   "outputs": [],
   "execution_count": 98
  },
  {
   "metadata": {},
   "cell_type": "code",
   "outputs": [],
   "execution_count": null,
   "source": "",
   "id": "814d0af1b666fd45"
  }
 ],
 "metadata": {
  "kernelspec": {
   "display_name": "Python 3",
   "language": "python",
   "name": "python3"
  },
  "language_info": {
   "codemirror_mode": {
    "name": "ipython",
    "version": 2
   },
   "file_extension": ".py",
   "mimetype": "text/x-python",
   "name": "python",
   "nbconvert_exporter": "python",
   "pygments_lexer": "ipython2",
   "version": "2.7.6"
  }
 },
 "nbformat": 4,
 "nbformat_minor": 5
}
